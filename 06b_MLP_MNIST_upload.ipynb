{
  "nbformat": 4,
  "nbformat_minor": 0,
  "metadata": {
    "colab": {
      "name": "06b_MLP_MNIST_upload.ipynb",
      "provenance": [],
      "collapsed_sections": [],
      "authorship_tag": "ABX9TyMb3vh2kWG6g6ipdVNDQH1P"
    },
    "kernelspec": {
      "name": "python3",
      "display_name": "Python 3"
    }
  },
  "cells": [
    {
      "cell_type": "markdown",
      "metadata": {
        "id": "o8b-S667EYyb"
      },
      "source": [
        "##Classifying MNIST handwriting digits with Multi Layer Perceptron(MLP)\n",
        "\n",
        "* In this session, we will create a fully connected MLP with one hidden layer, train and evaluate the network on the MNIST dataset. \n",
        "* The MNIST dataset is small enough that we can use a simple MLP for training( (The MNIST images are relatively small)"
      ]
    },
    {
      "cell_type": "markdown",
      "metadata": {
        "id": "r1JnsNcWI5N2"
      },
      "source": [
        "##What does our planned MLP looks like? Draw the diagram \n",
        "\n",
        "* How many inputs?\n",
        "* How many hidden layers?\n",
        "* How many neurons in the hidden layers?\n",
        "* How many neurons in the output layer?\n",
        "* What about activation functions?\n"
      ]
    },
    {
      "cell_type": "markdown",
      "metadata": {
        "id": "DSCH5t2Q9ft-"
      },
      "source": [
        "##The Main Steps\n",
        "\n",
        "Generally, the main steps for building a Deep Learning Neural Network are as follows. \n",
        "\n",
        "1. Import libraries, seed\n",
        "2. Set data preprocessing (transform), download dataset, split train and test \n",
        "3. Set Dataloaders \n",
        "4. Define the model class\n",
        "5. Set loss function, optimizer and learning rate\n",
        "6. Training : Load the data\n",
        "7. Training : Zero the parameter gradients\n",
        "8. Training : Compute fwd\n",
        "9. Training : Compute loss\n",
        "10. Training : Compute backward,set optimizer(update weights)\n",
        "10. Evaluation of trained model on test dataset"
      ]
    },
    {
      "cell_type": "markdown",
      "metadata": {
        "id": "BNFEQyulhw-t"
      },
      "source": [
        "##1. Import libraries, seeding random for reproducibility"
      ]
    },
    {
      "cell_type": "code",
      "metadata": {
        "id": "ZWLMUg75h1WD"
      },
      "source": [
        "import torch\n",
        "import torch.nn.functional as F\n",
        "import torch.nn as nn\n",
        "import numpy as np \n",
        "from torchvision import datasets\n",
        "from torchvision import transforms\n",
        "from torch.utils.data import DataLoader\n",
        "\n",
        "seed = 7\n",
        "torch.manual_seed(seed)\n",
        "torch.backends.cudnn.deterministic = True\n",
        "torch.backends.cudnn.benchmark = False\n",
        "np.random.seed(seed)\n"
      ],
      "execution_count": 7,
      "outputs": []
    },
    {
      "cell_type": "markdown",
      "metadata": {
        "id": "b6hjWnsMXkcC"
      },
      "source": [
        "##2. Download the MNIST dataset and Data pre-processing\n",
        "\n",
        "* Each PIL image is converted to a PyTorch tensor using transforms.ToTensor()\n",
        "* The 28*28 image data is flattened into a vector using lambda which is a customized transformation. Here lambda returns a new view of the input tensor which is the product of the input tensor's dimension. \n",
        "\n",
        "* We are also splitting the MNIST dataset into training and test dataset\n",
        "\n",
        "\n",
        "\n",
        "\n",
        "\n",
        "\n"
      ]
    },
    {
      "cell_type": "code",
      "metadata": {
        "id": "cUuXmfLu2qAC"
      },
      "source": [
        "\n",
        "transformCustom = transforms.Compose([\n",
        "                                transforms.ToTensor(), #this convert to tensor\n",
        "                                transforms.Lambda(lambda x:x.view(-1))  #this flatten 28*28 into a 784 vector for each image\n",
        "])\n",
        "\n",
        "\n",
        "train = datasets.MNIST(root='.',train=True,transform=transformCustom, download=True)\n",
        "test = datasets.MNIST(root='.', train=False, transform=transformCustom,download=True)\n",
        "\n",
        "\n"
      ],
      "execution_count": 8,
      "outputs": []
    },
    {
      "cell_type": "markdown",
      "metadata": {
        "id": "YUt7Ri6UlD6w"
      },
      "source": [
        "#3. DataLoaders\n",
        "\n",
        "* Previously like in the perceptron assignment, we passed data manually. Depends on the implementation, for each iteration sometimes we pass one row of data, or one mini batch of data, or one whole batch of data. And for the case of Stochastic Gradient Descent, we need to randomly shuffle the dataset or randomly pick one sample from the dataset i.e we have to do it manually\n",
        "\n",
        "* In PyTorch, we can use DataLoader class that automatically pass the batches of data fetched from a Dataset object. We can also set if we want the DataLoader to shuffle the data and the size of each batch of data.\n",
        "\n",
        "* Each batch is a tuple containing the images in the first element and the labels in the second"
      ]
    },
    {
      "cell_type": "code",
      "metadata": {
        "id": "lj8rAV1rlG6j"
      },
      "source": [
        "#Set DataLoader\n",
        "batchSize = 128  # Rule of thumb is to set to the power of 2. In this case 2^7\n",
        "train_loader = DataLoader(train, batch_size=batchSize,shuffle=True)\n",
        "test_loader = DataLoader(test,batch_size=batchSize, shuffle=False) # no need to shuffle test data\n"
      ],
      "execution_count": 17,
      "outputs": []
    },
    {
      "cell_type": "markdown",
      "metadata": {
        "id": "CJeiPHmXEh62"
      },
      "source": [
        "##Exercise\n",
        "\n",
        "What is the shape of the train data and train label?\n",
        "\n",
        "How many batches are there? Is the size for each batch the same ? "
      ]
    },
    {
      "cell_type": "code",
      "metadata": {
        "id": "kI7w4INaEzgY",
        "colab": {
          "base_uri": "https://localhost:8080/"
        },
        "outputId": "1d70c949-b47c-42d2-837d-b312df6c8eb8"
      },
      "source": [
        "count = 0\n",
        "for xb, yb in train_loader:\n",
        "  count+=1\n",
        "  #print(f'batch: {count} batchsize:{xb.shape}')\n",
        "\n",
        "print(f'There are {count} batches in train_loader')\n",
        "#How many batches are there ?   #128*468+96=60,000"
      ],
      "execution_count": 15,
      "outputs": [
        {
          "output_type": "stream",
          "text": [
            "There are 469 batches in train_loader\n"
          ],
          "name": "stdout"
        }
      ]
    },
    {
      "cell_type": "markdown",
      "metadata": {
        "id": "nXiAgnkOoe6a"
      },
      "source": [
        "#Do the same for test data (test_loader)"
      ]
    },
    {
      "cell_type": "code",
      "metadata": {
        "id": "e1qqOt_tmxHg",
        "colab": {
          "base_uri": "https://localhost:8080/"
        },
        "outputId": "9d1cded4-7fb6-40c4-fae5-26c8d2bf4d8b"
      },
      "source": [
        "count=0\n",
        "for x, y in test_loader:\n",
        "  count+=1\n",
        " #print(f'Batch: {count}  test data: {x.shape} test label: {y.shape}') #78*128+16=10,000\n",
        "  \n",
        "print(f'There are {count} batches in test_loader') "
      ],
      "execution_count": 16,
      "outputs": [
        {
          "output_type": "stream",
          "text": [
            "There are 79 batches in test_loader\n"
          ],
          "name": "stdout"
        }
      ]
    },
    {
      "cell_type": "markdown",
      "metadata": {
        "id": "kbiHO3EGRmYV"
      },
      "source": [
        "#Define the Neural Net model/class (MLP with one hidden layer, fully connected)\n",
        "\n",
        "* Define our model in a class that extends nn.Module. \n",
        "* nn.Module subclasses must do a minimum of one thing: implement the forward method which takes a batch of data and performs the forward-pass. \n",
        "\n",
        "* PyTorch's autograd system will take care of computing the gradients of the forward pass for us. In the code below we'll also make use of the constructor of our model to instantiate the hidden and output layers.\n",
        "\n",
        "\n",
        "* The nn.Module class defines a instance variable called `training` that is set to True when the model is being trained and False when it is being evaluated after being trained. \n",
        "\n",
        "* In our model definition we've used a softmax activation function on the output layer to turn the outputs into probability-like values, but have only set this to be enabled when we are not training the model. We've done this because we will use PyTorch's implementation of Cross Entropy Loss (nn.CrossEntropyLoss) during training which **implicitly** adds a softmax before a logarithmic loss.\n",
        "\n",
        "* In our case the softmax isn't actually necessary for model evaluation if we're only interested in the most likely class; the logits (unscaled log probabilities) provided by the final fully connected layer before the softmax can be used directly as the largest logit will correspond to the most likely class.\n"
      ]
    },
    {
      "cell_type": "code",
      "metadata": {
        "id": "g8BT_CFp5S-H"
      },
      "source": [
        "class MLP(nn.Module):\n",
        "  def __init__(self,input_size, hidden_size,num_classes):\n",
        "    super(MLP,self).__init__()\n",
        "\n",
        "    self.layer1 = nn.Linear(input_size,hidden_size) \n",
        "    self.layer2 = nn.Linear(hidden_size,num_classes)\n",
        "\n",
        "  def forward(self,x): \n",
        "\n",
        "    out = self.layer1(x)\n",
        "    #out = F.sigmoid(out) \n",
        "    out = torch.sigmoid(out)\n",
        "    out = self.layer2(out)\n",
        " \n",
        "    if not self.training:\n",
        "      out = F.softmax(out,dim=1)\n",
        "    return out\n"
      ],
      "execution_count": 12,
      "outputs": []
    },
    {
      "cell_type": "markdown",
      "metadata": {
        "id": "oPxwE0FXRvtw"
      },
      "source": [
        "#5 Set loss function, optimizer\n",
        "#6-10 Training\n",
        "\n",
        "\n",
        "\n",
        "\n",
        "Training and Evaluating the Model\n",
        "* One of the design decisions of PyTorch is that everything should be explicit so we have full control over our models and the training process. \n",
        "\n",
        "* This means that we actually need to write the model training loop by hand, and perform each of the various operations (perform the forward-pass, compute the loss, perform the backward-pass, and update the weights). \n",
        "\n",
        "* In the code below we'll fit the model to the data over several epochs using batches of 128 images provided by the DataLoader defined previously. \n",
        "\n",
        "* We'll make use of the ADAM optimiser as it broadly tends to work well practically despite its limitations."
      ]
    },
    {
      "cell_type": "code",
      "metadata": {
        "id": "lcBNvprNR7Xr",
        "colab": {
          "base_uri": "https://localhost:8080/"
        },
        "outputId": "0c54075a-c058-47e7-ffa3-c0d7cc3c77b7"
      },
      "source": [
        "\n",
        "model = MLP(784, 784, 10) #input_size,hidden_size,num_classes\n",
        "\n",
        "\n",
        "loss_fn = nn.CrossEntropyLoss() \n",
        "opt = torch.optim.Adam(model.parameters()) #optimizer, optimization strategy-to escape the local minima and to converge quickly\n",
        "#rule of thumb for optimizer\n",
        "#1. if you want to keep things simple. use ADAM\n",
        "#2. if you have time, then use SGD, and tune the learning rate/parameters \n",
        "#3. if you are implementing a paper, use the same strategy as what the authors are using \n",
        "\n",
        "epochSize =3 #obviously this isn't enough\n",
        "\n",
        "for epoch in range(epochSize):\n",
        "  model.train() #training mode\n",
        "  loss = 0\n",
        "\n",
        "  for input_batch, target_batch in train_loader:\n",
        "\n",
        "    opt.zero_grad() #zero the gradients\n",
        "    predict_batch = model(input_batch) #fwd\n",
        "    loss_batch = loss_fn(predict_batch,target_batch) #loss\n",
        "    loss_batch.backward() #backward\n",
        "\n",
        "    opt.step()#optimize i.e update weights\n",
        "\n",
        "    loss += loss_batch.item()\n",
        "    \n",
        "\n",
        "  print(f'Epoch: {epoch+1}  loss: {loss}')    \n",
        "  \n",
        "        \n",
        "    \n"
      ],
      "execution_count": 18,
      "outputs": [
        {
          "output_type": "stream",
          "text": [
            "Epoch: 1  loss: 223.8967769742012\n",
            "Epoch: 2  loss: 110.00368839502335\n",
            "Epoch: 3  loss: 83.59569402784109\n"
          ],
          "name": "stdout"
        }
      ]
    },
    {
      "cell_type": "markdown",
      "metadata": {
        "id": "EkEi-hH2jvmr"
      },
      "source": [
        "#Visualize epoch vs loss/cost and minibatches vs loss/cost\n",
        "\n",
        "\n",
        "* In the above we printed out the total loss at the end of each epoch. With your own code, plot the loss.\n",
        "\n"
      ]
    },
    {
      "cell_type": "code",
      "metadata": {
        "id": "OZBB8Us98GPm"
      },
      "source": [
        "#plot the loss by epochs, minibatches here"
      ],
      "execution_count": null,
      "outputs": []
    },
    {
      "cell_type": "markdown",
      "metadata": {
        "id": "L_Fd3_fa8h2r"
      },
      "source": [
        "#11. Evaluation of trained model on test data\n",
        "\n",
        "* Compute the overall accuracy of the test set. Note that you need a call to model.eval() - this sets the model into evaluation mode and supresses non-training things (gradients, and things such as dropout being applied/computed)."
      ]
    },
    {
      "cell_type": "code",
      "metadata": {
        "id": "DPxdTCqbsqqI"
      },
      "source": [
        "\n",
        "model.eval() # sets the model in evaluation mode \n",
        "for input_batch, target_batch in test_loader:\n",
        "  \n",
        "  #Your code here \n",
        "\n",
        "print('number of test data')\n",
        "print(f'number of wrongly predicted label ')\n",
        "\n",
        "\n",
        "print(f'test accuracy')\n",
        "\n",
        "\n"
      ],
      "execution_count": null,
      "outputs": []
    }
  ]
}