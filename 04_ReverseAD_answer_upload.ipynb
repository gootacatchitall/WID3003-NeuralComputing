{
  "nbformat": 4,
  "nbformat_minor": 0,
  "metadata": {
    "kernelspec": {
      "display_name": "Python 3",
      "language": "python",
      "name": "python3"
    },
    "language_info": {
      "codemirror_mode": {
        "name": "ipython",
        "version": 3
      },
      "file_extension": ".py",
      "mimetype": "text/x-python",
      "name": "python",
      "nbconvert_exporter": "python",
      "pygments_lexer": "ipython3",
      "version": "3.6.7"
    },
    "colab": {
      "name": "04_ReverseAD_answer_upload.ipynb",
      "provenance": [],
      "collapsed_sections": []
    }
  },
  "cells": [
    {
      "cell_type": "markdown",
      "metadata": {
        "id": "CxSI21ZRl5op"
      },
      "source": [
        "#Defining class `Var`"
      ]
    },
    {
      "cell_type": "code",
      "metadata": {
        "deletable": false,
        "nbgrader": {
          "checksum": "2644b153f82b6e872e63cb5ead2d529f",
          "grade": false,
          "grade_id": "cell-b23d219550cd2934",
          "locked": false,
          "schema_version": 1,
          "solution": true
        },
        "id": "zH2ZLmPllCWo"
      },
      "source": [
        "import math\n",
        "\n",
        "class Var:\n",
        "    def __init__(self, value):\n",
        "        self.value = value\n",
        "        self.children = []\n",
        "        self.grad_value = None  #Initialize to None, which means it's not yet evaluated\n",
        "\n",
        "    def grad(self):\n",
        "        #recurse only if the value is not yet cached\n",
        "        if self.grad_value is None:\n",
        "            #calculate derivative using chaing rule\n",
        "            self.grad_value = sum(weight * var.grad()\n",
        "                                  for weight, var in self.children)\n",
        "        return self.grad_value\n",
        "    \n",
        "    def __str__(self):\n",
        "        return str(self.value)\n",
        "\n",
        "    def __mul__(self, other): # z=x*y    dz/dx=y  dz/dy=x\n",
        "        z = Var(self.value * other.value)\n",
        "        self.children.append((other.value, z)) #x.children.append((y.value,z))  x.child =[dz/dx=y, z] <--assign children z to x\n",
        "        other.children.append((self.value, z))  #y.children.append((x.value,z)) y.child =[dz/dy=x,z] <-- assign children z to y\n",
        "        return z\n",
        "\n",
        "    def __add__(self, other): #z=x+y, dz/dx=1, dz/dy=1\n",
        "        z=Var(self.value+other.value)\n",
        "        self.children.append((1.0,z)) #x.child =[dz/dx=1, z]\n",
        "        other.children.append((1.0,z)) #y.child =[dz/dy=1, z]\n",
        "        return z\n",
        "\n",
        "    def __sub__(self, other): #z=x-y, dz/dx=1, dz/dy=1\n",
        "        z=Var(self.value-other.value)\n",
        "        self.children.append((1.0,z)) #x.child =[dz/dx=1, z]\n",
        "        other.children.append((-1.0,z)) #y.child =[dz/dy=-1, z]\n",
        "        return z\n",
        "\n",
        "    def __truediv__(self, other): #z=x/y, dz/dx=1/y, dz/dy=-x/y^2\n",
        "        z=Var(self.value/other.value)\n",
        "        self.children.append((1/other.value,z))  #x.child =[dz/dx=1/y, z]\n",
        "        other.children.append((-self.value/other.value**2,z)) #y.child =[dz/dy=-x/y^2, z]\n",
        "        return z\n",
        "\n",
        "\n",
        "    def __pow__(self, other): #z=x^y, dz/dx= yx^(y-1), dz/dy= x^y ln(x)\n",
        "        \n",
        "        a,b=1,1\n",
        "\n",
        "        #CAUTION: This will only work if other.value is an integer.  What if 0.5^(4.2) ?\n",
        "        for i in range(other.value-1):\n",
        "          a*=self.value  #this is x^(y-1)\n",
        "          b*=self.value \n",
        "        b*=self.value  #this is x^y\n",
        "\n",
        "        z=Var(b)\n",
        "\n",
        "        self.children.append((other.value*a,z))   #x.child = [dz/dx=yx^(y-1),z]\n",
        "        other.children.append((b*math.log(self.value),z)) #y.child = [dz/dy=x^y ln x,z]\n",
        "\n",
        "    \n",
        "        return z\n",
        "\n",
        "def sin(x):\n",
        "    z = Var(math.sin(x.value))\n",
        "    x.children.append((math.cos(x.value), z))\n",
        "    return z\n",
        "\n",
        "\n"
      ],
      "execution_count": null,
      "outputs": []
    },
    {
      "cell_type": "code",
      "metadata": {
        "deletable": false,
        "editable": false,
        "nbgrader": {
          "checksum": "afce3f80a9f8278e0ea2815a23a09c95",
          "grade": true,
          "grade_id": "cell-d2124fb6ca76110f",
          "locked": true,
          "points": 2,
          "schema_version": 1,
          "solution": false
        },
        "id": "BhPi9cNFlCWr",
        "colab": {
          "base_uri": "https://localhost:8080/"
        },
        "outputId": "97f8907c-1436-4d8e-bd20-936401083055"
      },
      "source": [
        "# Tests\n",
        "\n",
        "#Var(1)**Var(1)\n",
        "\n",
        "\n",
        "Var(1) + Var(1) / Var(1) - Var(1)**Var(1)\n"
      ],
      "execution_count": null,
      "outputs": [
        {
          "output_type": "execute_result",
          "data": {
            "text/plain": [
              "<__main__.Var at 0x7fa8d13dee90>"
            ]
          },
          "metadata": {
            "tags": []
          },
          "execution_count": 13
        }
      ]
    },
    {
      "cell_type": "markdown",
      "metadata": {
        "id": "n3i5BkOhzsaL"
      },
      "source": [
        "#Forward mode computation"
      ]
    },
    {
      "cell_type": "code",
      "metadata": {
        "colab": {
          "base_uri": "https://localhost:8080/"
        },
        "id": "hdXhztrEhK6Q",
        "outputId": "864fdd05-2a58-4cb7-9b2c-9f041b2aa3f5"
      },
      "source": [
        "\n",
        "\n",
        "x=Var(0.5)\n",
        "y=Var(4.2)\n",
        "\n",
        "a=x*y\n",
        "b=sin(x)\n",
        "z=a+b\n",
        "\n",
        "def printGradValue():\n",
        "  print('--grad_value--')\n",
        "  print(x.grad_value)\n",
        "  print(y.grad_value)\n",
        "  print(a.grad_value)\n",
        "  print(b.grad_value)\n",
        "\n",
        "\n",
        "#print(x.children)\n",
        "\n",
        "\n",
        "\n",
        "print(f'\\n{x.children[0][0]},{x.children[0][1]}  <-- This is first child of x which is a. da/dx=4.2 with  a=4.2*0.5=2.1')\n",
        "print(f'{x.children[1][0]:.2f},{x.children[1][1]}  <-- This is second child of x which is b. db/dx=cos(0.5)=0.87 with b=sin(0.5)=0.479\\n')\n",
        "\n",
        "print(f'{y.children[0][0]},{y.children[0][1]} <-- y only has 1 child which is a. da/dy=0.5 with  a=4.2*0.5=2.1\\n')\n",
        "\n",
        "print(f'{a.children[0][0]},{a.children[0][1]} <-- a only has 1 child which is z. dz/da=1 with  z=a*b=2.57..\\n')\n",
        "print(f'{b.children[0][0]},{b.children[0][1]} <-- b too only has 1 child which is z. dz/db=1 with  z=a*b=2.57..\\n')\n"
      ],
      "execution_count": null,
      "outputs": [
        {
          "output_type": "stream",
          "text": [
            "\n",
            "4.2,2.1  <-- This is first child of x which is a. da/dx=4.2 with  a=4.2*0.5=2.1\n",
            "0.88,0.479425538604203  <-- This is second child of x which is b. db/dx=cos(0.5)=0.87 with b=sin(0.5)=0.479\n",
            "\n",
            "0.5,2.1 <-- y only has 1 child which is a. da/dy=0.5 with  a=4.2*0.5=2.1\n",
            "\n",
            "1.0,2.579425538604203 <-- a only has 1 child which is z. dz/da=1 with  z=a*b=2.57..\n",
            "\n",
            "1.0,2.579425538604203 <-- b too only has 1 child which is z. dz/db=1 with  z=a*b=2.57..\n",
            "\n"
          ],
          "name": "stdout"
        }
      ]
    },
    {
      "cell_type": "markdown",
      "metadata": {
        "id": "iW9AKYOUy_c-"
      },
      "source": [
        "#Reverse mode computation\n",
        "\n",
        "So far we have done forward computing as we go. But we haven't computed $\\frac{\\partial z}{\\partial x}$ and $\\frac{\\partial z}{\\partial y}$ "
      ]
    },
    {
      "cell_type": "code",
      "metadata": {
        "colab": {
          "base_uri": "https://localhost:8080/"
        },
        "id": "a2NaYx-5zB_Z",
        "outputId": "4ecdaddd-5e97-4e0f-ebf8-842c703118d8"
      },
      "source": [
        "printGradValue()# This should be None\n",
        "\n",
        "z.grad_value=1 #Seeding \n",
        "\n",
        "print('z: ',z.value)\n",
        "\n",
        "print(\"dz/dx: \",x.grad())\n",
        "print(\"dz/dy: \",y.grad())\n",
        "print(\"dz/da: \",a.grad())\n",
        "print(\"dz/db: \",b.grad())\n",
        "\n",
        "printGradValue() #Only after seeding this has value\n",
        "\n",
        "\n",
        "\n",
        "#Test your computed values\n",
        "assert abs(z.value - 2.579425538604203) <= 1e-15\n",
        "assert abs(x.grad() - (y.value + math.cos(x.value))) <= 1e-15\n",
        "assert abs(y.grad() - x.value) <= 1e-15"
      ],
      "execution_count": null,
      "outputs": [
        {
          "output_type": "stream",
          "text": [
            "--grad_value--\n",
            "None\n",
            "None\n",
            "None\n",
            "None\n",
            "z:  2.579425538604203\n",
            "dz/dx:  5.077582561890373\n",
            "dz/dy:  0.5\n",
            "dz/da:  1.0\n",
            "dz/db:  1.0\n",
            "--grad_value--\n",
            "5.077582561890373\n",
            "0.5\n",
            "1.0\n",
            "1.0\n"
          ],
          "name": "stdout"
        }
      ]
    }
  ]
}